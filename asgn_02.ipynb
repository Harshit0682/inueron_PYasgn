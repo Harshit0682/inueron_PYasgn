{
 "cells": [
  {
   "cell_type": "code",
   "execution_count": null,
   "id": "cb392996-8d54-41bb-b1f6-f5807f5b6b3f",
   "metadata": {},
   "outputs": [],
   "source": [
    "question1\n",
    "The Boolean data type represents two values: \"true\" and \"false\". These values are used to represent binary logic in \n",
    "computer programming and are fundamental for making decisions and controlling the flow of a program.\n",
    "In various programming languages, these Boolean values are typically written as:\n",
    "\"true\" for representing the true condition.\n",
    "\"false\" for representing the false condition.\n",
    "For example in Python:\n",
    "x = True\n",
    "y = False\n",
    "\n",
    "\n",
    "question2\n",
    "Boolean operators are used to perform logical operations on Boolean values (true or false). There are three main types of\n",
    "Boolean operators: AND, OR, and NOT.\n",
    "AND operator-\n",
    "x = True\n",
    "y = False\n",
    "result = x and y  # result will be False\n",
    "OR opertaor-\n",
    "x = True\n",
    "y = False\n",
    "result = x or y  # result will be True\n",
    "NOT operator-\n",
    "x = True\n",
    "result = not x  # result will be False\n",
    "\n",
    "\n",
    "question3\n",
    "AND Operator Truth Table (&& or AND):\n",
    "Operand 1\tOperand 2\tResult\n",
    "false\t\tfalse\t\tfalse\n",
    "false\t\ttrue\t\tfalse\n",
    "true\t\tfalse\t\tfalse\n",
    "true\t\ttrue\t\ttrue\n",
    "OR Operator Truth Table (|| or OR):\n",
    "Operand 1\tOperand 2\tResult\n",
    "false\t\tfalse\t\tfalse\n",
    "false\t\ttrue\t\ttrue\n",
    "true\t\tfalse\t\ttrue\n",
    "true\t\ttrue\t\ttrue\n",
    "NOT Operator Truth Table (! or NOT):\n",
    "Operand\tResult\n",
    "false\ttrue\n",
    "true\tfalse\n",
    "\n",
    "\n",
    "question4\n",
    "(5 > 4) and (3 == 5)\n",
    "Result: False\n",
    "\n",
    "not (5 > 4)\n",
    "Result: False (since not False is True)\n",
    "\n",
    "(5 > 4) or (3 == 5)\n",
    "Result: True\n",
    "\n",
    "not ((5 > 4) or (3 == 5))\n",
    "Result: False\n",
    "\n",
    "(True and True) and (True == False)\n",
    "Result: False (since True == False is False)\n",
    "\n",
    "(not False) or (not True)\n",
    "Result: True\n",
    "\n",
    "\n",
    "question5\n",
    "1.Equal to (==): Checks if two values are equal.\n",
    "2.Not equal to (!=): Checks if two values are not equal.\n",
    "3.Greater than (>): Checks if the left operand is greater than the right operand.\n",
    "4.Less than (<): Checks if the left operand is less than the right operand.\n",
    "5.Greater than or equal to (>=): Checks if the left operand is greater than or equal to the right operand.\n",
    "6.Less than or equal to (<=): Checks if the left operand is less than or equal to the right operand.\n",
    "\n",
    "\n",
    "question6\n",
    "Equal To Operator (==):\n",
    "The equal to operator is used for comparison in programming. It checks whether two values are equal or not. It return\n",
    " a Boolean value (true or false) based on the comparison.\n",
    "Example\n",
    "x = 5\n",
    "y = 10\n",
    "result = x == y  # This will be false since 5 is not equal to 10\n",
    "Assignment Operator (=):\n",
    "The assignment operator is used to assign a value to a variable. It takes the value on the right and assigns it to the \n",
    "variable on the left.\n",
    "Example\n",
    "x = 5  # Assigns the value 5 to the variable x\n"
   ]
  },
  {
   "cell_type": "code",
   "execution_count": 3,
   "id": "809c230b-e42f-424f-8468-1a561531369e",
   "metadata": {},
   "outputs": [
    {
     "name": "stdin",
     "output_type": "stream",
     "text": [
      "Enter a value for spam:  1\n"
     ]
    },
    {
     "name": "stdout",
     "output_type": "stream",
     "text": [
      "Hello\n"
     ]
    }
   ],
   "source": [
    "#question8\n",
    "spam = int(input(\"Enter a value for spam: \"))  # Assuming user input for the value of spam\n",
    "\n",
    "if spam == 1:\n",
    "    print(\"Hello\")\n",
    "elif spam == 2:\n",
    "    print(\"Howdy\")\n",
    "else:\n",
    "    print(\"Greetings!\")\n"
   ]
  },
  {
   "cell_type": "code",
   "execution_count": null,
   "id": "039cae2b-2a82-4f01-b487-2c6fd92abba3",
   "metadata": {},
   "outputs": [],
   "source": [
    "question9\n",
    "Windows: Press Ctrl + C in the terminal or command prompt where the program is running. This sends an interrupt signal to \n",
    "the program, which should terminate it.\n",
    "\n",
    "Mac: Press Command + C in the terminal where the program is running. Similar to Windows, this sends an interrupt signal to\n",
    "the program.\n"
   ]
  },
  {
   "cell_type": "code",
   "execution_count": 8,
   "id": "cc9b3785-c007-4f3e-b0ba-6f1ac98f85a4",
   "metadata": {},
   "outputs": [
    {
     "name": "stdout",
     "output_type": "stream",
     "text": [
      "0\n",
      "1\n",
      "2\n",
      "4\n"
     ]
    },
    {
     "data": {
      "text/plain": [
       "4"
      ]
     },
     "execution_count": 8,
     "metadata": {},
     "output_type": "execute_result"
    }
   ],
   "source": [
    "#question10\n",
    "#break statement:\n",
    "#When encountered inside a loop, the break statement immediately terminates the loop it's currently inside, regardless of \n",
    "#whether the loop's condition is still satisfied.\n",
    "#It exits the loop entirely and continues with the next statement after the loop.\n",
    "#Useful when you want to exit a loop prematurely based on a certain condition.\n",
    "#Example\n",
    "#for i in range(5):\n",
    "   # if i == 3;  #continue statement:\n",
    "\n",
    "#When encountered inside a loop, the continue statement skips the rest of the current iteration and moves on to the next \n",
    "#iteration of the loop.It doesn't terminate the loop; it just jumps to the next iteration without executing the remaining \n",
    "#statements within the current iteration.\n",
    "#Example:\n",
    "for i in range(5):\n",
    "    if i == 3:\n",
    "        continue\n",
    "    print(i)\n",
    "   \n",
    "#output\n",
    "0\n",
    "1\n",
    "2\n",
    "4\n"
   ]
  },
  {
   "cell_type": "code",
   "execution_count": null,
   "id": "324e157f-e5d0-458f-b359-9efe19065d01",
   "metadata": {},
   "outputs": [],
   "source": [
    "question11\n",
    "range(10):\n",
    "This form of the range() function generates a sequence of numbers from 0 up to (but not including) the specified value, which is 10 in\n",
    " this case. The start value is implicitly assumed to be 0, and the step value is implicitly assumed to be 1. So, it \n",
    "generates numbers: 0, 1, 2, ..., 9.\n",
    "range(0, 10):\n",
    "This version explicitly specifies the start and stop values of the sequence. It will generate numbers starting from 0\n",
    " (inclusive) and ending at 10 (exclusive), with a step value of 1. It produces the same sequence as the first case: 0, 1,\n",
    " 2, ..., 9.\n",
    "range(0, 10, 1):\n",
    "This variation is similar to the second one but includes an explicit step value. It generates a sequence starting from 0\n",
    " (inclusive), ending at 10 (exclusive), and incrementing by 1 in each step. \n",
    "\n",
    "\n",
    "question12\n",
    "# Using a for loop\n",
    "for num in range(1, 11):\n",
    "    print(num)\n",
    "\n",
    "# Using a while loop\n",
    "num = 1\n",
    "while num <= 10:\n",
    "    print(num)\n",
    "    num += 1\n",
    "\n",
    "\n",
    "question13\n",
    "\n",
    "import spam\n",
    "spam.bacon()\n"
   ]
  }
 ],
 "metadata": {
  "kernelspec": {
   "display_name": "Python 3 (ipykernel)",
   "language": "python",
   "name": "python3"
  },
  "language_info": {
   "codemirror_mode": {
    "name": "ipython",
    "version": 3
   },
   "file_extension": ".py",
   "mimetype": "text/x-python",
   "name": "python",
   "nbconvert_exporter": "python",
   "pygments_lexer": "ipython3",
   "version": "3.10.6"
  }
 },
 "nbformat": 4,
 "nbformat_minor": 5
}
