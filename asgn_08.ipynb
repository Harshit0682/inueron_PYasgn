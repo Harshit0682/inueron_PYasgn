{
 "cells": [
  {
   "cell_type": "code",
   "execution_count": 1,
   "id": "1790a97d-24bc-4624-849a-ed1acebf1d2b",
   "metadata": {},
   "outputs": [
    {
     "name": "stdout",
     "output_type": "stream",
     "text": [
      "5\n",
      "120\n"
     ]
    }
   ],
   "source": [
    "#question01\n",
    "#Built-in Functions:\n",
    "#Built-in functions are pre-defined functions that are provided by Python itself. They are part of the Python standard library and can be \n",
    "#used without requiring any additional imports. These functions cover a wide range of common tasks and operations.\n",
    "#Example of a built-in function: len()\n",
    "\n",
    "\n",
    "my_list = [1, 2, 3, 4, 5]\n",
    "length = len(my_list)\n",
    "print(length)  # Output: 5\n",
    "\n",
    "\n",
    "#User-defined Functions:\n",
    "#User-defined functions are functions that are created by the programmer to perform specific tasks. These functions are defined using the def\n",
    "#keyword, followed by the function name, parameters, and a block of code. They allow you to encapsulate a sequence of statements into a \n",
    "#reusable unit.\n",
    "#Example of a user-defined function: Calculating the factorial of a number.\n",
    "\n",
    "def factorial(n):\n",
    "    if n == 0 or n == 1:\n",
    "        return 1\n",
    "    else:\n",
    "        return n * factorial(n - 1)\n",
    "\n",
    "num = 5\n",
    "result = factorial(num)\n",
    "print(result)  # Output: 120\n"
   ]
  },
  {
   "cell_type": "code",
   "execution_count": 2,
   "id": "50e492bc-5e93-4ead-a87a-95ccb6c25061",
   "metadata": {},
   "outputs": [
    {
     "name": "stdout",
     "output_type": "stream",
     "text": [
      "8\n",
      "2\n",
      "Result: 5.0\n",
      "Result: 5.0\n",
      "Result: 5.0\n"
     ]
    }
   ],
   "source": [
    "#question02\n",
    "#Positional Arguments:\n",
    "#Positional arguments are passed to a function in the order in which they are defined in the function's parameter list. The number##\n",
    "#and order of arguments passed must match the number and order of parameters in the function definition.\n",
    "#Example:\n",
    "def add(a, b):\n",
    "    return a + b\n",
    "\n",
    "result = add(5, 3)  # Here, 5 is assigned to 'a' and 3 is assigned to 'b'\n",
    "print(result)  # Output: 8\n",
    "\n",
    "\n",
    "#Keyword Arguments:\n",
    "#Keyword arguments are passed using the parameter names in the form of parameter_name=value. This allows you to specify which value is\n",
    "#assigned to which parameter, irrespective of their order in the function definition.\n",
    "#xample:\n",
    "def subtract(a, b):\n",
    "    return a - b\n",
    "\n",
    "result = subtract(b=3, a=5)  # Using keyword arguments to pass values\n",
    "print(result)  # Output: 2\n",
    "\n",
    "\n",
    "\n",
    "def divide(a, b, show_result=True):\n",
    "    if show_result:\n",
    "        print(\"Result:\", a / b)\n",
    "\n",
    "divide(10, 2)           # Positional arguments\n",
    "divide(a=15, b=3)       # Keyword arguments\n",
    "divide(20, b=4)         # Mix of positional and keyword arguments\n",
    "#When using keyword arguments, you have the flexibility to skip arguments or specify only a subset of them, provided that the remaining parameters#\n",
    "#have default values defined in the function signature."
   ]
  },
  {
   "cell_type": "code",
   "execution_count": null,
   "id": "3eada84e-3f9d-41a2-9a87-6ecdf06de20c",
   "metadata": {},
   "outputs": [],
   "source": [
    "question03\n",
    "The return statement in a function serves the purpose of sending a value back to the caller of the function. When a function is executed\n",
    "and encounters a return statement, the function's execution is immediately halted, and the value specified after the return keyword is sent\n",
    "back to the caller. This allows us to obtain and use the result of a function's computation.\n",
    "\n",
    "A function can indeed have multiple return statements. However, only one of these statements will be executed during the function's execution. \n",
    "Once a return statement is executed, the function exits, and the value is returned to the caller. Any subsequent code after the executed return\n",
    "statement will not be executed.\n",
    "def divide(a, b):\n",
    "    if b == 0:\n",
    "        return \"Cannot divide by zero!\"  # First return statement\n",
    "    else:\n",
    "        return a / b                    # Second return statement\n",
    "\n",
    "result1 = divide(10, 2)  # This will execute the second return statement\n",
    "print(result1)           # Output: 5.0\n",
    "\n",
    "result2 = divide(10, 0)  # This will execute the first return statement\n",
    "print(result2)           # Output: \"Cannot divide by zero!\"\n"
   ]
  },
  {
   "cell_type": "code",
   "execution_count": null,
   "id": "c0abea6e-05ef-4ebf-bad2-30928ae083f7",
   "metadata": {},
   "outputs": [],
   "source": [
    "question04\n",
    "Lambda functions in Python are anonymous, small, and inline functions that can be defined using the lambda keyword. They are also known as \n",
    "lambda expressions or lambda forms. Unlike regular functions, lambda functions do not have a name and are usually used for simple operations\n",
    "that can be defined in a single line of code.\n",
    "#basic syntax\n",
    "lambda arguments: expression\n",
    "\n",
    "sum = lambda a,b: a+b \n",
    "num1 = 5 \n",
    "num2 = 3 \n",
    "result = sum(num1,num2) \n",
    "print(f\"Sum of {num1} and {num2} is {result}.\")\n",
    "\n"
   ]
  },
  {
   "cell_type": "code",
   "execution_count": null,
   "id": "a8cc08a7-8789-44f6-b0cc-5ec5215a5b3b",
   "metadata": {},
   "outputs": [],
   "source": [
    "question06\n",
    "Using a Tuple:\n",
    "\n",
    "def multiple_values():\n",
    "    value1 = 10\n",
    "    value2 = \"Hello\"\n",
    "    return value1, value2\n",
    "\n",
    "result = multiple_values()\n",
    "print(result)  # This will print: (10, 'Hello')\n",
    "\n",
    "Using a List:\n",
    "\n",
    "def multiple_values():\n",
    "    value1 = 10\n",
    "    value2 = \"Hello\"\n",
    "    return [value1, value2]\n",
    "\n",
    "result = multiple_values()\n",
    "print(result)  # This will print: [10, 'Hello']\n",
    "\n",
    "using a Dictionary:\n",
    "\n",
    "def multiple_values():\n",
    "    value1 = 10\n",
    "    value2 = \"Hello\"\n",
    "    return {\"value1\": value1, \"value2\": value2}\n",
    "\n",
    "result = multiple_values()\n",
    "print(result)  # This will print: {'value1': 10, 'value2': 'Hello'}\n",
    "\n",
    "\n",
    "\n"
   ]
  },
  {
   "cell_type": "code",
   "execution_count": 3,
   "id": "ca80fcbd-c026-48d6-8ba8-e0b85bd4bf4f",
   "metadata": {},
   "outputs": [
    {
     "name": "stdin",
     "output_type": "stream",
     "text": [
      "Enter a numeric value:  10\n"
     ]
    },
    {
     "name": "stdout",
     "output_type": "stream",
     "text": [
      "Logarithmic: 2.302585092994046\n",
      "Exponential: 22026.465794806718\n",
      "Power Base 2: 1024.0\n",
      "Square Root: 3.1622776601683795\n"
     ]
    }
   ],
   "source": [
    "#question08\n",
    "import math\n",
    "\n",
    "def perform_operations(x):\n",
    "    results = {\n",
    "        \"logarithmic\": math.log(x),\n",
    "        \"exponential\": math.exp(x),\n",
    "        \"power_base_2\": math.pow(2, x),\n",
    "        \"square_root\": math.sqrt(x)\n",
    "    }\n",
    "    return results\n",
    "\n",
    "# Example usage\n",
    "input_value = float(input(\"Enter a numeric value: \"))\n",
    "operation_results = perform_operations(input_value)\n",
    "print(\"Logarithmic:\", operation_results[\"logarithmic\"])\n",
    "print(\"Exponential:\", operation_results[\"exponential\"])\n",
    "print(\"Power Base 2:\", operation_results[\"power_base_2\"])\n",
    "print(\"Square Root:\", operation_results[\"square_root\"])\n",
    "\n"
   ]
  },
  {
   "cell_type": "code",
   "execution_count": 13,
   "id": "79045114-e885-41b0-b403-329957224ecc",
   "metadata": {},
   "outputs": [
    {
     "name": "stdout",
     "output_type": "stream",
     "text": [
      "First Name: John\n",
      "Last Name: Doe\n"
     ]
    }
   ],
   "source": [
    "#question09\n",
    "def extract_names(full_name):\n",
    "    names = full_name.split()\n",
    "    if len(names) >= 2:\n",
    "        first_name = names[0]\n",
    "        last_name = ' '.join(names[1:])\n",
    "        return first_name, last_name\n",
    "    else:\n",
    "        return\n",
    " \n",
    "\n",
    "# Example usage\n",
    "full_name = \"John Doe\"\n",
    "first_name, last_name = extract_names(full_name)\n",
    "print(\"First Name:\", first_name)\n",
    "print(\"Last Name:\", last_name)\n"
   ]
  },
  {
   "cell_type": "code",
   "execution_count": null,
   "id": "d6ab7ccd-29a8-4424-978f-35f46959b577",
   "metadata": {},
   "outputs": [],
   "source": []
  },
  {
   "cell_type": "code",
   "execution_count": null,
   "id": "d76d75d0-2429-4ff4-826d-08648c2d27f8",
   "metadata": {},
   "outputs": [],
   "source": []
  },
  {
   "cell_type": "code",
   "execution_count": null,
   "id": "df3a03c8-93f6-4053-898c-dd2c2626c089",
   "metadata": {},
   "outputs": [],
   "source": []
  }
 ],
 "metadata": {
  "kernelspec": {
   "display_name": "Python 3 (ipykernel)",
   "language": "python",
   "name": "python3"
  },
  "language_info": {
   "codemirror_mode": {
    "name": "ipython",
    "version": 3
   },
   "file_extension": ".py",
   "mimetype": "text/x-python",
   "name": "python",
   "nbconvert_exporter": "python",
   "pygments_lexer": "ipython3",
   "version": "3.10.6"
  }
 },
 "nbformat": 4,
 "nbformat_minor": 5
}
