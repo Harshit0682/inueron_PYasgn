{
 "cells": [
  {
   "cell_type": "code",
   "execution_count": null,
   "id": "af7cfccf-7454-4100-84e9-1f77a5f14c9d",
   "metadata": {},
   "outputs": [],
   "source": [
    "question 1 \n",
    "The symbol \"[]\" typically represents an empty list in Python. In programming, a list is a data structure that can hold an ordered collection of items. \n",
    "The \"[]\" notation is used to define an empty list, which means the list contains no elements.\n",
    "For example, in Python:\n",
    "empty_list = []\n",
    "\n",
    "\n",
    "question2\n",
    "spam = [2, 4, 6, 8, 10]\n",
    "spam[2] = 'hello'\n",
    "the spam list would be [2, 4, 'hello', 8, 10], with 'hello' as the third value at index 2\n",
    "\n",
    "\n",
    "question3\n",
    "'3' * 2 evaluates to '33'.\n",
    "int('33') converts the string '33' to the integer 33.\n",
    "33 / 11 evaluates to 3.\n",
    "So, spam[int(int('3' * 2) / 11)] refers to spam[3].\n",
    "Given the list ['a', 'b', 'c', 'd'], the value at index 3 is 'd'\n",
    "\n",
    "\n",
    "question4\n",
    "the value of spam[-1] is 'd'\n",
    "\n",
    "\n",
    "question5\n",
    " the list ['a', 'b', 'c', 'd'], spam[:2] = ['a', 'b']\n",
    "\n",
    "\n",
    "question6\n",
    "bacon.index('cat') would be 1\n",
    "\n",
    "question7\n",
    "bacon.append(99)\n",
    "[3.14, 'cat', 11, 'cat', True, 99]\n",
    "\n",
    "\n",
    "question8\n",
    "bacon.remove('cat')\n"
   ]
  },
  {
   "cell_type": "code",
   "execution_count": 1,
   "id": "d50603ba-10e4-4799-a5bd-54c4f1264b3e",
   "metadata": {},
   "outputs": [
    {
     "data": {
      "text/plain": [
       "[1, 2, 3, 4, 5, 6]"
      ]
     },
     "execution_count": 1,
     "metadata": {},
     "output_type": "execute_result"
    }
   ],
   "source": [
    "#question9\n",
    "#List Concatenation:\n",
    "#List concatenation involves combining two or more lists into a single list. This can be achieved using the + operator or the extend() method.\n",
    "#Using the + operator:\n",
    "list1 = [1, 2, 3]\n",
    "list2 = [4, 5, 6]\n",
    "result = list1 + list2\n",
    "result\n",
    "# result will be [1, 2, 3, 4, 5, 6]\n",
    "List Replication:\n",
    "List replication involves creating a new list by repeating the elements of an existing list multiple times. This can be achieved using the * operator.\n",
    "Using the * operator:\n",
    "original_list = [1, 2, 3]\n",
    "replicated_list = original_list * 3\n",
    "# replicated_list will be [1, 2, 3, 1, 2, 3, 1, 2, 3]\n",
    "\n"
   ]
  },
  {
   "cell_type": "code",
   "execution_count": null,
   "id": "f3f80192-a664-47bf-8550-82aca31f733a",
   "metadata": {},
   "outputs": [],
   "source": [
    "question10\n",
    "append() Method:\n",
    "The append() method is used to add an element to the end of a list. It takes a single argument, which is the element we want to add, and appends it to the\n",
    "end of the list.  \n",
    "\n",
    "the syntax:\n",
    "my_list = [1, 2, 3]\n",
    "my_list.append(4)\n",
    "After execution, my_list will contain [1, 2, 3, 4]\n",
    "\n",
    "insert() Method:\n",
    "The insert() method is used to add an element at a specific index within the list. It takes two arguments: the index where you want to insert the element,\n",
    "and the element itself.\n",
    "\n",
    "the syntax:\n",
    "my_list = [1, 2, 3]\n",
    "my_list.insert(1, 4)\n",
    "After execution, my_list will become [1, 4, 2, 3]"
   ]
  },
  {
   "cell_type": "code",
   "execution_count": null,
   "id": "d214790f-d94f-4a16-8aef-42909802589d",
   "metadata": {},
   "outputs": [],
   "source": [
    "question11\n",
    "remove() Method:\n",
    "The remove() method is used to remove the first occurrence of a specific value from the list. It takes a single argument, which is the value we want to remove. \n",
    "my_list = [1, 2, 3, 2, 4]\n",
    "my_list.remove(2)\n",
    "my_list will become [1, 3, 2, 4]\n",
    "\n",
    "pop() Method:\n",
    "The pop() method is used to remove an item from a specific index in the list and return that item. It takes an optional index argument, which \n",
    "specifies the position of the item to be removed. If no index is provided, it will remove and return the last item in the list. \n",
    "the syntax:\n",
    "my_list = [1, 2, 3, 4]\n",
    "removed_item = my_list.pop(1)\n",
    "After this code is executed, my_list will become [1, 3, 4]"
   ]
  },
  {
   "cell_type": "code",
   "execution_count": null,
   "id": "78352501-9898-4f7c-9b42-4634e854fe6c",
   "metadata": {},
   "outputs": [],
   "source": [
    "question13\n",
    "Tuples and lists are both data structures used to store collections of items in programming, but they have some key differences in terms of their \n",
    "characteristics and usage. Here's a comparison between tuples and lists:\n",
    "\n",
    "Mutability:\n",
    "Lists: Lists are mutable, which means you can modify their content after they are created. we can add, remove, or modify elements within a list.\n",
    "Tuples: Tuples are immutable, meaning their elements cannot be changed after creation. Once a tuple is defined, its elements remain constant.\n",
    "\n",
    "Syntax:\n",
    "Lists: Lists are defined using square brackets []. Elements are separated by commas.\n",
    "Tuples: Tuples are defined using parentheses (). Elements are also separated by commas.\n",
    "\n",
    "Use Cases:\n",
    "Lists: Lists are often used when we need a collection that can be modified dynamically, such as when we are adding, removing, or changing elements frequently.\n",
    "Tuples: Tuples are used when we want to store a fixed collection of elements that should remain unchanged. They are often used to represent structures with different\n",
    "attributes, like a point with x and y coordinates.\n",
    "\n",
    "Performance:\n",
    "Lists: Lists might have slightly more memory overhead and computational cost due to their mutability. This is because the list needs to manage potential changes\n",
    "and dynamic resizing.\n",
    "Tuples: Tuples are more memory-efficient and have slightly better performance, especially when used as keys in dictionaries or elements in sets, because their \n",
    "immutability ensures they can be safely used in these scenarios.\n",
    "\n",
    "Methods and Operations:\n",
    "Lists: Lists have various methods for modifying, sorting, and searching their elements. Some common methods include append(), insert(), remove(), and sort().\n",
    "Tuples: Tuples have fewer methods since they are immutable. They mainly support operations like indexing and slicing.\n",
    "\n"
   ]
  },
  {
   "cell_type": "code",
   "execution_count": null,
   "id": "438bd820-889b-4a46-af52-55b20f0c2a04",
   "metadata": {},
   "outputs": [],
   "source": [
    "question14\n",
    "my_tuple = (42,)\n"
   ]
  },
  {
   "cell_type": "code",
   "execution_count": 3,
   "id": "dd11246a-c056-494e-9a1a-3e67c7f4677c",
   "metadata": {},
   "outputs": [
    {
     "name": "stdout",
     "output_type": "stream",
     "text": [
      "(1, 2, 3)\n",
      "[4, 5, 6]\n"
     ]
    }
   ],
   "source": [
    "#question15\n",
    "# Convert list to tuple\n",
    "my_list = [1, 2, 3]\n",
    "my_tuple = tuple(my_list)\n",
    "print(my_tuple)  # Output: (1, 2, 3)\n",
    "\n",
    "# Convert tuple to list\n",
    "my_tuple = (4, 5, 6)\n",
    "my_list = list(my_tuple)\n",
    "print(my_list)  # Output: [4, 5, 6]\n"
   ]
  },
  {
   "cell_type": "code",
   "execution_count": 4,
   "id": "3d222d0c-4da8-45f2-80bb-974394cbbe69",
   "metadata": {},
   "outputs": [
    {
     "name": "stdout",
     "output_type": "stream",
     "text": [
      "[99, 2, 3]\n"
     ]
    }
   ],
   "source": [
    "#question16\n",
    "original_list = [1, 2, 3]\n",
    "new_list = original_list\n",
    "\n",
    "new_list[0] = 99\n",
    "print(original_list)  # Output: [99, 2, 3]\n"
   ]
  },
  {
   "cell_type": "code",
   "execution_count": null,
   "id": "79120811-8445-4949-b0a6-90651c043450",
   "metadata": {},
   "outputs": [],
   "source": [
    "question17\n",
    "import copy\n",
    "original_list = [1, [2, 3]]\n",
    "shallow_copy = copy.copy(original_list)\n",
    "print(shallow_copy is original_list)           # False\n",
    "print(shallow_copy[1] is original_list[1])     # True (nested list is still the same object)\n",
    "\n",
    "import copy\n",
    "original_list = [1, [2, 3]]\n",
    "deep_copy = copy.deepcopy(original_list)\n",
    "print(deep_copy is original_list)             # False\n",
    "print(deep_copy[1] is original_list[1])       # False (nested list is a new independent object)\n"
   ]
  },
  {
   "cell_type": "code",
   "execution_count": null,
   "id": "f89a3dfa-665b-4e9d-83a4-ad4ce4e04ed5",
   "metadata": {},
   "outputs": [],
   "source": []
  }
 ],
 "metadata": {
  "kernelspec": {
   "display_name": "Python 3 (ipykernel)",
   "language": "python",
   "name": "python3"
  },
  "language_info": {
   "codemirror_mode": {
    "name": "ipython",
    "version": 3
   },
   "file_extension": ".py",
   "mimetype": "text/x-python",
   "name": "python",
   "nbconvert_exporter": "python",
   "pygments_lexer": "ipython3",
   "version": "3.10.6"
  }
 },
 "nbformat": 4,
 "nbformat_minor": 5
}
