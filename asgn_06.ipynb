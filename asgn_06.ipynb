{
 "cells": [
  {
   "cell_type": "code",
   "execution_count": 1,
   "id": "80d341b4-e3a6-47d9-9a09-41778c0e3b55",
   "metadata": {},
   "outputs": [
    {
     "name": "stdout",
     "output_type": "stream",
     "text": [
      "False\n",
      "None\n",
      "True\n",
      "and\n",
      "as\n",
      "assert\n",
      "async\n",
      "await\n",
      "break\n",
      "class\n",
      "continue\n",
      "def\n",
      "del\n",
      "elif\n",
      "else\n",
      "except\n",
      "finally\n",
      "for\n",
      "from\n",
      "global\n",
      "if\n",
      "import\n",
      "in\n",
      "is\n",
      "lambda\n",
      "nonlocal\n",
      "not\n",
      "or\n",
      "pass\n",
      "raise\n",
      "return\n",
      "try\n",
      "while\n",
      "with\n",
      "yield\n"
     ]
    }
   ],
   "source": [
    "#question1.\n",
    "#Keywords in Python are reserved words that have special meanings and purposes in the language. They cannot be used as identifiers (variable names, \n",
    "#function names, etc.) because they are already pre-defined by the language for specific tasks. Keywords play a crucial role in defining the syntax and\n",
    "#structure of the Python code.\n",
    "import keyword\n",
    "\n",
    "all_keywords = keyword.kwlist\n",
    "\n",
    "for keyword in all_keywords:\n",
    "    print(keyword)\n"
   ]
  },
  {
   "cell_type": "code",
   "execution_count": null,
   "id": "d2768a0e-d86b-401e-8d4e-46eb08cadce6",
   "metadata": {},
   "outputs": [],
   "source": [
    "question2\n",
    "Naming Rules:\n",
    "Variable names must start with a letter (a-z, A-Z) or an underscore (_).\n",
    "The subsequent characters can be letters, numbers (0-9), or underscores.\n",
    "Variable names are case-sensitive, which means myVar and myvar are different variables.\n",
    "\n",
    "Allowed Characters:\n",
    "Variable names must consist only of letters, numbers, and underscores. Special characters (like !, @, #, $, etc.) are not allowed.\n",
    "\n",
    "Keywords:\n",
    "Variable names cannot be the same as Python keywords (reserved words). For example, you cannot use if, else, while, for, etc., as variable names.\n",
    "Whitespace:\n",
    "eg-\n",
    "3people = \"Invalid\"  # Variable name cannot start with a number\n",
    "my-variable = 5     # Variable name cannot contain hyphens\n",
    "if = 10             # Cannot use a keyword as a variable name\n",
    "\n"
   ]
  },
  {
   "cell_type": "code",
   "execution_count": null,
   "id": "3901c495-4ace-453b-89d8-1434095cb385",
   "metadata": {},
   "outputs": [],
   "source": [
    "question3\n",
    "Use Descriptive Names:\n",
    "Choose variable names that clearly indicate the purpose or content of the variable. This makes it easier for other developers\n",
    "(and our future self) to understand\n",
    "the code without needing excessive comments.\n",
    "\n",
    "Avoid Single-letter Names:\n",
    "Unless the variable is a common counter (e.g., in a loop) or has a universally recognized abbreviation, avoid using single-\n",
    "letter variable names. They can be \n",
    "confusing and lack context.\n",
    "\n",
    "Be Consistent:\n",
    "Maintain consistent naming conventions throughout your codebase. If you start with snake_case or camelCase, stick with it.\n",
    "\n",
    "Use Lowercase for Variables:\n",
    "use all lowercase letters for variable and function names. This distinguishes them from classes and makes your code more \n",
    "readable.\n",
    "\n",
    "Use Uppercase for Constants:\n",
    "Constants that shouldn't change during program execution are conventionally written in uppercase with underscores to separate\n",
    "words. For example: PI, MAX_VALUE.\n",
    "\n",
    "Use Plural for Collections:\n",
    "If a variable holds a collection of items (lists, sets, dictionaries), consider using a plural name to indicate its nature. \n",
    "For example: users, items.\n",
    "\n",
    "Use Verbs for Functions and Methods:\n",
    "Function and method names should use verbs or verb phrases to indicate the action they perform. For example: calculate_total\n",
    ", get_user_data.\n",
    "\n",
    "Avoid Ambiguous Names:\n",
    "Choose names that are not ambiguous and don't conflict with built-in Python functions or modules.\n"
   ]
  },
  {
   "cell_type": "code",
   "execution_count": null,
   "id": "6b79207f-4ed4-4cb6-94ee-514a06a38351",
   "metadata": {},
   "outputs": [],
   "source": [
    "question4\n",
    "If we use a keyword as a variable name in Python, we will encounter a syntax error. Keywords are reserved words that have special meanings and purposes in the\n",
    "language. They are not allowed to be used as identifiers (variable names, function names, etc.) because they are already predefined by the language for specific\n",
    "tasks.\n",
    "if = 10\n",
    "#SyntaxError: can't assign to keyword\n",
    "\n"
   ]
  },
  {
   "cell_type": "code",
   "execution_count": 2,
   "id": "a2110c9f-996e-4d42-9ca4-44b87c1c176e",
   "metadata": {},
   "outputs": [
    {
     "name": "stdout",
     "output_type": "stream",
     "text": [
      "Hello, Alice\n"
     ]
    }
   ],
   "source": [
    "\n",
    "#question5\n",
    "#the 'def' keyword in Python is used to define a function. Functions are blocks of code that perform a specific task when called. \n",
    "def greet(name):\n",
    "    return \"Hello, \" + name\n",
    "\n",
    "result = greet(\"Alice\")\n",
    "print(result)  # Output: Hello, Alice\n",
    "\n"
   ]
  },
  {
   "cell_type": "code",
   "execution_count": null,
   "id": "9ed646d5-1fcd-4a95-9525-685567de8ee1",
   "metadata": {},
   "outputs": [],
   "source": [
    "question7\n",
    "(i) Homogeneous list:\n",
    "A homogeneous list is a list that contains elements of the same data type. In Python, for example, a list of integers would be\n",
    "a homogeneous list.\n",
    "Example: [2, 5, 8, 12, 15]\n",
    "\n",
    "(ii) Heterogeneous set:\n",
    "A heterogeneous set is a set that contains elements of different data types. In Python, a set can hold various data types,\n",
    "including integers, strings, and \n",
    "other types.\n",
    "Example: {\"apple\", 5, 3.14, (1, 2, 3)}\n",
    "\n",
    "(iii) Homogeneous tuple:\n",
    "A homogeneous tuple is a tuple that contains elements of the same data type. Similar to lists, tuples in Python can also be \n",
    "homogeneous.\n",
    "Example: (10, 20, 30, 40, 50)\n",
    "\n"
   ]
  },
  {
   "cell_type": "code",
   "execution_count": null,
   "id": "baa9b5c5-d795-4896-a72b-871ce2f74627",
   "metadata": {},
   "outputs": [],
   "source": [
    "question8\n",
    "Immutable Data Types:\n",
    "An immutable data type is one whose value cannot be changed after it is created. Any operation that appears to modify the \n",
    "value of an immutable object actually\n",
    "creates a new object with the new value. In other words, the original object remains unchanged, and any operation on it \n",
    "results in the creation of a new object.\n",
    "\n",
    "Examples of immutable data types include:\n",
    "Integers: Once an integer is assigned a value, we cannot change its value directly.\n",
    "Floats: Similar to integers, float values cannot be changed directly once they are assigned.\n",
    "Strings: Strings are sequences of characters and are also immutable. Any operation that seems to modify a \n",
    "string actually creates a new string.\n",
    "\n",
    "x = 5\n",
    "y = x  # y now refers to the same integer object as x\n",
    "y = 10  # y is now assigned a new integer object with the value 10, x remains unchanged\n",
    "\n",
    "name = \"Alice\"\n",
    "new_name = name.upper()  # Returns a new string with all uppercase letters, the original name is unchanged\n",
    "\n",
    "Mutable Data Types:\n",
    "A mutable data type, on the other hand, is one that can be modified after it is created. This means we can change the internal state of the object without\n",
    "creating a new object. Lists, dictionaries, and sets in Python are examples of mutable data types.\n",
    "Examples of mutable data types include:\n",
    "\n",
    "Lists: Lists can be modified by adding, removing, or changing elements.\n",
    "Dictionaries: The key-value pairs in dictionaries can be added, modified, or deleted.\n",
    "Sets: Elements can be added to or removed from sets.\n",
    "\n",
    "my_list = [1, 2, 3]\n",
    "my_list.append(4)  # Modifies the list by adding a new element\n",
    "my_dict = {\"name\": \"Bob\", \"age\": 30}\n",
    "my_dict[\"age\"] = 31  # Modifies the value associated with the \"age\" key\n",
    "my_set = {1, 2, 3}\n",
    "my_set.add(4)  # Modifies the set by adding a new element\n"
   ]
  },
  {
   "cell_type": "code",
   "execution_count": 3,
   "id": "7048ed19-b5da-4552-9e81-98eba9bfbcfb",
   "metadata": {},
   "outputs": [
    {
     "name": "stdout",
     "output_type": "stream",
     "text": [
      "    *\n",
      "   ***\n",
      "  *****\n",
      " *******\n",
      "*********\n"
     ]
    }
   ],
   "source": [
    "#question9\n",
    "rows = 5\n",
    "for i in range(rows):\n",
    "    for j in range(rows - i - 1):\n",
    "        print(\" \", end=\"\")\n",
    "    for j in range(2*i + 1):\n",
    "        print(\"*\", end=\"\")\n",
    "    print()\n",
    "\n"
   ]
  },
  {
   "cell_type": "code",
   "execution_count": null,
   "id": "6f75019e-0738-410b-96e5-0caccd217c56",
   "metadata": {},
   "outputs": [],
   "source": [
    "qustion10    skippp"
   ]
  },
  {
   "cell_type": "code",
   "execution_count": null,
   "id": "7631e1cc-e3e8-48e5-bea1-1c0a0b1b06ab",
   "metadata": {},
   "outputs": [],
   "source": []
  },
  {
   "cell_type": "code",
   "execution_count": null,
   "id": "8e0b073a-7585-4996-83ec-ea892f471c17",
   "metadata": {},
   "outputs": [],
   "source": []
  },
  {
   "cell_type": "code",
   "execution_count": null,
   "id": "d075354d-707d-4b95-a603-929927d91262",
   "metadata": {},
   "outputs": [],
   "source": []
  },
  {
   "cell_type": "code",
   "execution_count": null,
   "id": "b6c693e7-31e8-4bd8-ab9f-7f6cd5586d9d",
   "metadata": {},
   "outputs": [],
   "source": []
  }
 ],
 "metadata": {
  "kernelspec": {
   "display_name": "Python 3 (ipykernel)",
   "language": "python",
   "name": "python3"
  },
  "language_info": {
   "codemirror_mode": {
    "name": "ipython",
    "version": 3
   },
   "file_extension": ".py",
   "mimetype": "text/x-python",
   "name": "python",
   "nbconvert_exporter": "python",
   "pygments_lexer": "ipython3",
   "version": "3.10.6"
  }
 },
 "nbformat": 4,
 "nbformat_minor": 5
}
