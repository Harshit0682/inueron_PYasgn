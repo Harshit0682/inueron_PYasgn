{
 "cells": [
  {
   "cell_type": "code",
   "execution_count": null,
   "id": "ce42b729-2cc5-4766-b066-02fd1957a396",
   "metadata": {},
   "outputs": [],
   "source": [
    "question1\n",
    "Functions offer several advantages in programming:\n",
    "\n",
    "Modularity: Functions allow you to break down a complex problem into smaller, manageable pieces of code. Each function\n",
    " can focus on a specific task, making the code easier to understand, test, and maintain.\n",
    "\n",
    "Reusability: Once we've written a function to perform a certain task, we can reuse it multiple times throughout our\n",
    " program or even in different projects. This saves time and reduces the need to duplicate code.\n",
    "\n",
    "Readability: Using well-named functions with clear purposes improves the readability of our code. Instead of having a \n",
    "long sequence of instructions, we can call functions with meaningful names that indicate their purpose.\n",
    "\n",
    "Abstraction: Functions allow we to encapsulate complex logic behind a simple interface. This abstraction hides the \n",
    "intricate details of how a task is accomplished, making it easier for other developers to work with your code.\n",
    "\n",
    "Testing: Functions can be tested individually, making it easier to identify and fix bugs. Isolating functions for \n",
    "testing reduces the scope of potential issues and speeds up the debugging process.\n"
   ]
  },
  {
   "cell_type": "code",
   "execution_count": 1,
   "id": "11365bd0-435f-459e-8155-11018886e5d7",
   "metadata": {},
   "outputs": [
    {
     "name": "stdout",
     "output_type": "stream",
     "text": [
      "Hello, Alice!\n"
     ]
    }
   ],
   "source": [
    "#question3\n",
    "#the statement used to create a function is usually called a \"function definition\" or a \"function declaration.\" In Python,\n",
    "#the def keyword is used to define a function. Here's the basic syntax:\n",
    "def greet(name):\n",
    "    print(f\"Hello, {name}!\")\n",
    "\n",
    "greet(\"Alice\")  # Calling the function\n"
   ]
  },
  {
   "cell_type": "code",
   "execution_count": null,
   "id": "3faf1501-26a5-4a5c-b4b6-b993e690cdff",
   "metadata": {},
   "outputs": [],
   "source": [
    "question4\n",
    "Function:\n",
    "A function is a self-contained block of code that performs a specific task. It is defined using the def keyword \n",
    "(in languages like Python) or similar syntax in other languages. The function contains a set of instructions that are\n",
    "executed when the function is called. Functions can take input parameters, process them, and potentially return a result.\n",
    "\n",
    "Example of a function definition\n",
    "def add_numbers(a, b):\n",
    "    return a + b\n",
    "Function Call:\n",
    "A function call is an instruction that tells the program to execute the code inside a specific function. When a function\n",
    " is called, the program transfers control to the function's code block, executes the instructions within it, and then \n",
    "returns control back to the point in the program where the function was called. To call a function,we use the \n",
    "function's name followed by parentheses, optionally passing any required arguments.\n",
    "\n",
    "Example of a function call \n",
    "result = add_numbers(3, 5)  # Calling the add_numbers function\n",
    "\n",
    "\n",
    "question5\n",
    "Global Scope:\n",
    "The global scope refers to the top-level scope of a Python program. Variables, functions, and classes defined at this\n",
    " level are considered to be in the global scope. These entities are accessible from anywhere in the program, including \n",
    "within functions or other scopes. The global scope exists throughout the entire execution of the program.\n",
    "\n",
    "Local scopes are created whenever a function is defined. Variables, functions, and classes defined within a function's code\n",
    "block are considered to be in the local scope of that function. These entities are accessible only within the function\n",
    "where they are defined, and they cease to exist once the function finishes executing. Local scopes are created and \n",
    "estroyed as functions are called and return.\n",
    "\n",
    "question6\n",
    " the variables that were defined within the local scope of that function are no longer accessible and are effectively\n",
    " destroyed. This is because local variables only exist within the context of the function execution. Once the function \n",
    "finishes executing and returns a value (or terminates without returning anything), the local scope is cleaned up, and the\n",
    " local variables within it are reclaimed by the system's memory management.\n",
    "def some_function():\n",
    "    local_variable = 10\n",
    "    print(\"Inside function:\", local_variable)\n",
    "\n",
    "some_function()  # Call the function\n",
    "# Uncommenting the line below would result in an error\n",
    "# print(\"Outside function:\", local_variable)\n",
    "\n"
   ]
  },
  {
   "cell_type": "code",
   "execution_count": 9,
   "id": "79c9cb5c-9724-41e4-a70e-5d9785520cc4",
   "metadata": {},
   "outputs": [
    {
     "name": "stdout",
     "output_type": "stream",
     "text": [
      "19\n"
     ]
    }
   ],
   "source": [
    "#question7\n",
    "#The concept of a return value is fundamental in programming and refers to the value that a function or expression produces\n",
    "#as output after it has been executed. When you call a function or evaluate an expression, the return value is what the \n",
    "#function or expression \"gives back\" to the calling code for further use or processing.\n",
    " #a return value is typically specified using the return statement. This statement is used within a function to indicat\n",
    "#what value the function should produce when it is called. For example, consider the following Python function that \n",
    "#calculates the square of a given number and returns the result:\n",
    "\n",
    "def square(x):\n",
    "    return x * x\n",
    "result = square(3) + 10\n",
    "print(result)"
   ]
  },
  {
   "cell_type": "code",
   "execution_count": 14,
   "id": "2455568b-5f61-451e-98bf-20b7e0520620",
   "metadata": {},
   "outputs": [
    {
     "name": "stdout",
     "output_type": "stream",
     "text": [
      "Hello, Alice\n",
      "None\n"
     ]
    }
   ],
   "source": [
    "#question8\n",
    "#if a function does not have a return statement, the return value of a call to that function is typically None in languages\n",
    "#like Python. None is a special value that represents the absence of a value. When a function lacks a return statement,\n",
    "#it implicitly returns None when it completes its execution.\n",
    "\n",
    "def greet(name):\n",
    "    print(\"Hello, \" + name)\n",
    "\n",
    "result = greet(\"Alice\")\n",
    "print(result)  # Output: None\n"
   ]
  },
  {
   "cell_type": "code",
   "execution_count": null,
   "id": "a72fabb3-c027-4804-9c70-aeb98fde7623",
   "metadata": {},
   "outputs": [],
   "source": [
    "question9\n",
    "global_var = 10\n",
    "\n",
    "def modify_global():\n",
    "    global global_var  # This line indicates that we want to modify the global variable\n",
    "    global_var += 5    # Modifying the global variable\n",
    "\n",
    "modify_global()\n",
    "print(global_var)  # Output: 15\n",
    "\n",
    "\n",
    "\n",
    "question10\n",
    "value = None\n",
    "print(type(value))  \n",
    "\n",
    "# Output: <class 'NoneType'>\n",
    "\n",
    "\n",
    "question12\n",
    "import spam\n",
    "\n",
    "spam.bacon()\n",
    "\n",
    "\n"
   ]
  },
  {
   "cell_type": "code",
   "execution_count": null,
   "id": "a28a2cc8-1a00-4e5c-ba56-06ea3375d82e",
   "metadata": {},
   "outputs": [],
   "source": [
    "#question13\n",
    "class MyCustomError(Exception):\n",
    "    pass\n",
    "\n",
    "try:\n",
    "    if something_is_wrong:\n",
    "        raise MyCustomError(\"Something is wrong!\")\n",
    "except MyCustomError as e:\n",
    "    print(\"Custom error:\", e)"
   ]
  },
  {
   "cell_type": "code",
   "execution_count": null,
   "id": "092d0843-981d-445b-a340-daa1a26cf076",
   "metadata": {},
   "outputs": [],
   "source": [
    "question14\n",
    "the try clause is used to enclose a block of code where you anticipate that an exception might occur. It allows us\n",
    "to define a section of code that could potentially raise an exception. The purpose of the try clause is to \n",
    "isolate this code from the rest of the program and provide a controlled environment where we can attempt to execute \n",
    "potentially problematic code.If an exception occurs within the try block, the program immediately jumps to the \n",
    "corresponding except block (if one is defined) without causing the entire program to crash. This is particularly useful\n",
    " when you want to handle errors gracefully and provide appropriate feedback to the user or take alternative actions.\n",
    "\n",
    "The purpose of the except clause is to handle exceptions by providing a way to recover from them, display meaningful\n",
    " error messages, or take alternative actions to mitigate the impact of the exception. By using multiple except clauses\n",
    " with different exception types, we can tailor your error handling logic to different scenarios and provide more\n",
    " informative feedback to users.\n",
    "\n",
    "try:\n",
    "    # Code that might raise an exception\n",
    "    x = 10 / 0  # This will raise a ZeroDivisionError\n",
    "except ZeroDivisionError:\n",
    "    # Code to handle the specific exception\n",
    "    print(\"Cannot divide by zero.\")"
   ]
  },
  {
   "cell_type": "code",
   "execution_count": null,
   "id": "c26d2d01-6e0e-4eb0-9470-61463fea8cd4",
   "metadata": {},
   "outputs": [],
   "source": []
  },
  {
   "cell_type": "code",
   "execution_count": null,
   "id": "f16ab49b-ebff-4635-b003-5f432855d20c",
   "metadata": {},
   "outputs": [],
   "source": []
  },
  {
   "cell_type": "code",
   "execution_count": null,
   "id": "0f991a92-d6c4-49c3-808c-002a7005eea3",
   "metadata": {},
   "outputs": [],
   "source": []
  }
 ],
 "metadata": {
  "kernelspec": {
   "display_name": "Python 3 (ipykernel)",
   "language": "python",
   "name": "python3"
  },
  "language_info": {
   "codemirror_mode": {
    "name": "ipython",
    "version": 3
   },
   "file_extension": ".py",
   "mimetype": "text/x-python",
   "name": "python",
   "nbconvert_exporter": "python",
   "pygments_lexer": "ipython3",
   "version": "3.10.6"
  }
 },
 "nbformat": 4,
 "nbformat_minor": 5
}
