{
 "cells": [
  {
   "cell_type": "code",
   "execution_count": null,
   "id": "1bfac879-6cc9-4ee2-99ee-9ba180007dde",
   "metadata": {},
   "outputs": [],
   "source": [
    "question1\n",
    "an empty dictionary is created using curly braces {} with no key-value pairs inside. Here's how it looks:\n",
    "empty_dict = {}\n",
    "\n"
   ]
  },
  {
   "cell_type": "code",
   "execution_count": 1,
   "id": "f9d97712-3680-4158-9dea-c9e60df0eebb",
   "metadata": {},
   "outputs": [
    {
     "name": "stdout",
     "output_type": "stream",
     "text": [
      "42\n"
     ]
    }
   ],
   "source": [
    "#question2\n",
    "my_dict = {'foo': 42}\n",
    "value = my_dict['foo']\n",
    "print(value)  # This will output: 42\n"
   ]
  },
  {
   "cell_type": "code",
   "execution_count": null,
   "id": "6b0a3ebe-c76a-48fc-9958-ae80a3e0f54a",
   "metadata": {},
   "outputs": [],
   "source": [
    "question3\n",
    "Data Storage:\n",
    "Dictionary: A dictionary stores data as key-value pairs, where each key is unique and maps to a corresponding value. This allows for fast retrieval of \n",
    "values using their associated keys.\n",
    "List: A list stores an ordered collection of items, where each item can be accessed by its position (index) in the list. Items in a list are ordered and \n",
    "indexed by integers.\n",
    "\n",
    "Accessing Data:\n",
    "Dictionary: Data in a dictionary is accessed using keys. You provide the key, and the dictionary returns the corresponding value. Keys are usually strings but \n",
    "can also be other immutable types like numbers or tuples.\n",
    "List: Data in a list is accessed using indexes. You provide the index of the itemwe want to access, and the list returns the item at that position.\n",
    "\n",
    "Ordering:\n",
    "Dictionary: Dictionaries in Python 3.7 and later maintain insertion order, meaning the order in which key-value pairs are added is preserved. In Python 3.6 and \n",
    "earlier, dictionaries do not guarantee order.\n",
    "List: Lists maintain a strict order based on the positions of items in the list.\n",
    "\n",
    "Mutability:\n",
    "Dictionary: Dictionaries are mutable, meaning we can add, modify, or remove key-value pairs after the dictionary is created.\n",
    "List: Lists are also mutable, allowing you to change the elements in the list.\n",
    "\n",
    "\n",
    "question4\n",
    "spam is a dictionary with a single key 'bar' and a corresponding value 100. When we try to access spam['foo'], Python will not find the key 'foo' in the dictionary \n",
    "and will raise a KeyError.\n",
    "spam = { 'bar': 100 }\n",
    "value = spam['foo']  # This line will raise a KeyError\n",
    "\n",
    "\n",
    "question5\n",
    "'cat' in spam:\n",
    "This expression checks whether the string 'cat' is a key in the dictionary spam. It will return True if 'cat' is a key in the dictionary, and False otherwise. It doesn't\n",
    " specifically require using the .keys() method; Python will by default check for the presence of the key in the dictionary.\n",
    "\n",
    "'cat' in spam.keys():\n",
    "This expression explicitly checks whether the string 'cat' is present in the list of keys obtained from the .keys() method of the dictionary spam. It will also \n",
    "return True if 'cat' is a key in the dictionary, and False otherwise. However, this approach involves calling the .keys() method, which returns a list of all\n",
    "the keys in the dictionary.\n"
   ]
  },
  {
   "cell_type": "code",
   "execution_count": 2,
   "id": "b015ca2b-4c3e-4a65-bd1e-41c401a70dfd",
   "metadata": {},
   "outputs": [
    {
     "name": "stdout",
     "output_type": "stream",
     "text": [
      "Key Result: False\n",
      "Value Result: True\n"
     ]
    }
   ],
   "source": [
    "#question6\n",
    "spam = {'a': 'cat', 'b': 'dog', 'c': 'elephant'}\n",
    "\n",
    "# Checking for the presence of 'cat' as a key\n",
    "key_result = 'cat' in spam  # Returns False\n",
    "\n",
    "# Checking for the presence of 'cat' as a value\n",
    "value_result = 'cat' in spam.values()  # Returns True\n",
    "\n",
    "print(\"Key Result:\", key_result)\n",
    "print(\"Value Result:\", value_result)\n",
    "\n"
   ]
  },
  {
   "cell_type": "code",
   "execution_count": null,
   "id": "0ce038db-c234-47cc-9a86-8307708d2d4a",
   "metadata": {},
   "outputs": [],
   "source": [
    "\n",
    "question7\n",
    "spam.setdefault('color', 'black')\n",
    "\n"
   ]
  },
  {
   "cell_type": "code",
   "execution_count": null,
   "id": "0e1f94b8-e4f2-4579-96bf-8316fe20e140",
   "metadata": {},
   "outputs": [],
   "source": []
  },
  {
   "cell_type": "code",
   "execution_count": null,
   "id": "4f344ffd-7588-4bac-85a1-966c3a641d67",
   "metadata": {},
   "outputs": [],
   "source": []
  },
  {
   "cell_type": "code",
   "execution_count": null,
   "id": "504e10ab-d437-40fe-b78d-5a9e444ede09",
   "metadata": {},
   "outputs": [],
   "source": []
  },
  {
   "cell_type": "code",
   "execution_count": null,
   "id": "a719db50-2370-4359-922d-039a2b62cc29",
   "metadata": {},
   "outputs": [],
   "source": []
  },
  {
   "cell_type": "code",
   "execution_count": null,
   "id": "25e89171-89fa-4c9a-90dc-f510bf9281e0",
   "metadata": {},
   "outputs": [],
   "source": []
  },
  {
   "cell_type": "code",
   "execution_count": null,
   "id": "cca098f4-b0eb-40dc-b1a7-eaab03b68826",
   "metadata": {},
   "outputs": [],
   "source": []
  },
  {
   "cell_type": "code",
   "execution_count": null,
   "id": "a29719d3-bbe4-403c-89fb-d54a5ffb56bd",
   "metadata": {},
   "outputs": [],
   "source": []
  },
  {
   "cell_type": "code",
   "execution_count": null,
   "id": "4996c7c5-e86d-4be5-9659-e932c6e27b0d",
   "metadata": {},
   "outputs": [],
   "source": []
  },
  {
   "cell_type": "code",
   "execution_count": null,
   "id": "7d87ad93-e120-4fa1-ab82-f0f3e6baeebd",
   "metadata": {},
   "outputs": [],
   "source": []
  }
 ],
 "metadata": {
  "kernelspec": {
   "display_name": "Python 3 (ipykernel)",
   "language": "python",
   "name": "python3"
  },
  "language_info": {
   "codemirror_mode": {
    "name": "ipython",
    "version": 3
   },
   "file_extension": ".py",
   "mimetype": "text/x-python",
   "name": "python",
   "nbconvert_exporter": "python",
   "pygments_lexer": "ipython3",
   "version": "3.10.6"
  }
 },
 "nbformat": 4,
 "nbformat_minor": 5
}
