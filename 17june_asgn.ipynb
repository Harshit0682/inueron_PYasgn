{
 "cells": [
  {
   "cell_type": "code",
   "execution_count": null,
   "id": "d45f2558-5bfc-49aa-bf1f-80738d31cae9",
   "metadata": {},
   "outputs": [],
   "source": [
    "question01\n",
    "A \"try\" and \"except\" block, also known as a \"try-catch\" block in some programming languages, is a fundamental error handling mechanism used in\n",
    "various programming languages to manage and handle exceptions or errors that may occur during the execution of a program. This mechanism helps in\n",
    "preventing unexpected errors from crashing the program and allows developers to gracefully handle such situations.\n",
    "\n",
    "Here's how the \"try\" and \"except\" block works:\n",
    "\n",
    "Try Block: The code that might potentially raise an exception or error is placed within the \"try\" block. This is the section of code where we\n",
    "anticipate that something could go wrong.\n",
    "\n",
    "Except Block: The \"except\" block contains the code that will be executed if an exception occurs in the corresponding \"try\" block. The code\n",
    "within the \"except\" block provides a way to handle the exception gracefully, which can involve logging the error, displaying a user-friendly \n",
    "message, or taking alternative actions to continue the program's execution.\n",
    "\n",
    "Here's a basic example in Python:\n",
    "\n",
    "python\n",
    "Copy code\n",
    "try:\n",
    "    # Code that might raise an exception\n",
    "    x = 10 / 0  # This will raise a ZeroDivisionError\n",
    "except ZeroDivisionError:\n",
    "    # Code to handle the exception\n",
    "    print(\"Error: Division by zero!\")\n",
    "In this example, the \"try\" block contains the division operation that might raise a \"ZeroDivisionError\" exception. The \"except\" block is designed\n",
    "to handle this specific exception by printing an error message.\n",
    "\n",
    "Using \"try\" and \"except\" blocks, you can effectively manage errors and ensure that your program continues to run without crashing even\n",
    "when unexpected situations occur.\n"
   ]
  },
  {
   "cell_type": "code",
   "execution_count": null,
   "id": "8d2298ab-fbd2-496d-bf15-f47adb0b37e1",
   "metadata": {},
   "outputs": [],
   "source": [
    "question02\n",
    "try:\n",
    "    # Code that might raise an exception\n",
    "    # ...\n",
    "except SomeExceptionType:\n",
    "    # Code to handle the specific exception\n",
    "    # ...\n",
    "except AnotherExceptionType:\n",
    "    # Code to handle another specific exception\n",
    "    # ...\n",
    "\n",
    "else:\n",
    "    # Code that will run regardless of whether an exception occurred or not"
   ]
  },
  {
   "cell_type": "code",
   "execution_count": 5,
   "id": "91f43ca3-306b-4032-a56b-1f885bf1b562",
   "metadata": {},
   "outputs": [
    {
     "name": "stdin",
     "output_type": "stream",
     "text": [
      "Enter a number:  0.20\n"
     ]
    },
    {
     "name": "stdout",
     "output_type": "stream",
     "text": [
      "Error: Please enter a valid number.\n",
      "Execution completed.\n"
     ]
    }
   ],
   "source": [
    "try:\n",
    "    num = int(input(\"Enter a number: \"))\n",
    "    result = 10 / num\n",
    "except ZeroDivisionError:\n",
    "    print(\"Error: Division by zero!\")\n",
    "except ValueError:\n",
    "    print(\"Error: Please enter a valid number.\")\n",
    "finally:\n",
    "    print(\"Execution completed.\")\n"
   ]
  },
  {
   "cell_type": "code",
   "execution_count": null,
   "id": "9c138fec-29df-4b0f-9fa1-880c0ef396e7",
   "metadata": {},
   "outputs": [],
   "source": [
    "question03\n",
    "If an exception occurs inside a \"try\" block and there is no matching \"except\" block to catch that specific type of exception, the exception\n",
    "will propagate up the call stack. This means that the program's normal flow will be interrupted, and the exception will continue to propagate \n",
    "until it finds an appropriate \"except\" block to handle it. If no suitable \"except\" block is found anywhere in the call stack, the program will\n",
    "terminate, and an error message or stack trace might be displayed, depending on the programming language and environment.\n",
    "\n",
    "\n",
    "try:\n",
    "    x = 10 / 0  # This will raise a ZeroDivisionError\n",
    "except ValueError:\n",
    "    print(\"Caught a ValueError\")\n",
    "    \n",
    "    \n",
    "In this example, a \"ZeroDivisionError\" occurs, but the only \"except\" block is looking for a \"ValueError\". Since there's no\n",
    "matching \"except\" block for \"ZeroDivisionError\", the program will terminate with a traceback or error message indicating that the exception was \n",
    "unhandled."
   ]
  },
  {
   "cell_type": "code",
   "execution_count": null,
   "id": "68fc4266-73b7-46bb-83a1-121c34c7bc73",
   "metadata": {},
   "outputs": [],
   "source": [
    "question04\n",
    "Bare except block:\n",
    "In Python, a bare except block is used to catch any exception that might occur within the corresponding try block. This means that regardless\n",
    "of the type of exception that occurs, the code inside the except block will be executed. While this can be useful to catch unexpected errors \n",
    "and prevent the program from crashing, it's generally not considered good practice. This is because it can hide important information about \n",
    "the nature of the error, making it harder to diagnose and fix issues in the code.\n",
    "\n",
    "try:\n",
    "    # Some code that might raise an exception\n",
    "except:\n",
    "    # Code to handle the exception (not recommended)\n",
    "    \n",
    "    \n",
    "Specifying a specific exception type:\n",
    "A more recommended approach is to specify the type of exception that you want to catch. This provides better control over how different\n",
    "types of exceptions are handled. By catching specific exceptions, you can handle them differently based on the context and provide more\n",
    "informative error messages. This approach helps in understanding the nature of the problem and simplifies debugging.\n",
    "\n",
    "\n",
    "try:\n",
    "    # Some code that might raise an exception\n",
    "except SpecificExceptionType:\n",
    "    # Code to handle the specific exception"
   ]
  },
  {
   "cell_type": "code",
   "execution_count": 8,
   "id": "3990fe41-f16f-49f1-9d5c-a0c90b1d6b9d",
   "metadata": {},
   "outputs": [
    {
     "name": "stdin",
     "output_type": "stream",
     "text": [
      "Enter a numerator:  10\n",
      "Enter a denominator:  2\n"
     ]
    },
    {
     "name": "stdout",
     "output_type": "stream",
     "text": [
      "Program continues... 5.0\n"
     ]
    }
   ],
   "source": [
    "#question05\n",
    "#yes\n",
    "\n",
    "try:\n",
    "    # Outer try block\n",
    "    numerator = int(input(\"Enter a numerator: \"))\n",
    "    denominator = int(input(\"Enter a denominator: \"))\n",
    "    \n",
    "    try:\n",
    "        # Inner try block\n",
    "        result = numerator / denominator\n",
    "    except ZeroDivisionError:\n",
    "        print(\"Error: Division by zero in inner block\")\n",
    "except ValueError:\n",
    "    print(\"Error: Invalid input in outer block\")\n",
    "\n",
    "print(\"Program continues...\",result)\n"
   ]
  },
  {
   "cell_type": "code",
   "execution_count": 16,
   "id": "c8ebe686-b641-4d0c-9624-2fe153fce97d",
   "metadata": {},
   "outputs": [
    {
     "name": "stdin",
     "output_type": "stream",
     "text": [
      "Enter an integer:  20\n"
     ]
    },
    {
     "name": "stdout",
     "output_type": "stream",
     "text": [
      "Division successful!\n",
      "Execution completed.\n"
     ]
    }
   ],
   "source": [
    "#question06\n",
    "#yes\n",
    "try:\n",
    "    value = int(input(\"Enter an integer: \"))\n",
    "    result = 10 / value\n",
    "except ValueError:\n",
    "    print(\"Invalid input. Please enter an integer.\")\n",
    "except ZeroDivisionError:\n",
    "    print(\"Cannot divide by zero.\")\n",
    "except Exception as e:\n",
    "    print(f\"An error occurred: {e}\")\n",
    "else:\n",
    "    print(\"Division successful!\")\n",
    "finally:\n",
    "    print(\"Execution completed.\")\n"
   ]
  },
  {
   "cell_type": "code",
   "execution_count": null,
   "id": "3e4766c4-dcd2-4863-aa6e-f92004f0ec38",
   "metadata": {},
   "outputs": [],
   "source": [
    "question07\n",
    "a. EOFError: This error is raised when an input operation reaches the end of file (EOF) condition. It typically occurs when we're trying\n",
    "to read data from a file or input stream and there's no more data left to be read.\n",
    "\n",
    "b. FloatingPointError: This error occurs when a floating-point arithmetic operation cannot be performed as expected. It might happen when \n",
    "we're trying to perform calculations that result in exceptional conditions like division by zero or trying to calculate a value that exceeds the \n",
    "limits of the floating-point representation.\n",
    "\n",
    "c. IndexError: This error is raised when we're trying to access an index of a sequence (like a list or a string) that is outside the valid range \n",
    "of indices. In other words, we're trying to access an element that doesn't exist at the specified index.\n",
    "\n",
    "d. MemoryError: This error occurs when the Python interpreter is unable to allocate more memory for an object because the system's memory resources\n",
    "are exhausted. This can happen if our program is trying to allocate more memory than is available.\n",
    "\n",
    "e. OverflowError: This error is raised when a numerical operation exceeds the limits of the data type used to store the result. For example,\n",
    "it can occur when we're trying to calculate a value that's too large to be represented within the available data type.\n",
    "\n",
    "f. TabError: This error arises when there's an issue with the indentation of our code. Python uses indentation to define block structures,\n",
    "and a TabError occurs when there's a mix of tabs and spaces, or when the indentation levels are inconsistent.\n",
    "\n",
    "g. ValueError: This error is raised when a function receives an argument of the correct data type but with an inappropriate value. For\n",
    "example, if we're trying to convert a string to an integer using int(), and the string doesn't represent a valid integer, a ValueError will be\n",
    "raised."
   ]
  },
  {
   "cell_type": "code",
   "execution_count": 17,
   "id": "c9ca605d-fa77-40f2-90a2-c589c4cdb234",
   "metadata": {},
   "outputs": [
    {
     "name": "stdout",
     "output_type": "stream",
     "text": [
      "Error: Division by zero is not allowed.\n"
     ]
    }
   ],
   "source": [
    "#question08\n",
    "#a.\n",
    "def divide_numbers(a, b):\n",
    "    try:\n",
    "        result = a / b\n",
    "        return result\n",
    "    except ZeroDivisionError:\n",
    "        print(\"Error: Division by zero is not allowed.\")\n",
    "\n",
    "# Example usage\n",
    "numerator = 10\n",
    "denominator = 0\n",
    "result = divide_numbers(numerator, denominator)\n",
    "if result is not None:\n",
    "    print(\"Result:\", result)\n"
   ]
  },
  {
   "cell_type": "code",
   "execution_count": 18,
   "id": "e0aab1cd-f5c4-475c-b594-f6d38cd02f71",
   "metadata": {},
   "outputs": [
    {
     "name": "stdout",
     "output_type": "stream",
     "text": [
      "Converted integer: 123\n"
     ]
    }
   ],
   "source": [
    "#b.\n",
    "def convert_to_integer(s):\n",
    "    try:\n",
    "        num = int(s)\n",
    "        return num\n",
    "    except ValueError:\n",
    "        print(\"Error: Unable to convert the string to an integer.\")\n",
    "\n",
    "# Example usage\n",
    "input_string = \"123\"\n",
    "converted_num = convert_to_integer(input_string)\n",
    "if converted_num is not None:\n",
    "    print(\"Converted integer:\", converted_num)\n",
    "\n"
   ]
  },
  {
   "cell_type": "code",
   "execution_count": 20,
   "id": "38b0dbcd-83c2-4e96-878f-9eb3c2708a18",
   "metadata": {},
   "outputs": [
    {
     "name": "stdout",
     "output_type": "stream",
     "text": [
      "Element at index 2 : 3\n"
     ]
    }
   ],
   "source": [
    "#c\n",
    "def access_list_element(lst, index):\n",
    "    try:\n",
    "        value = lst[index]\n",
    "        return value\n",
    "    except IndexError:\n",
    "        print(\"Error: Index is out of range.\")\n",
    "\n",
    "# Example usage\n",
    "my_list = [1, 2, 3, 4, 5]\n",
    "index_to_access = 2\n",
    "element = access_list_element(my_list, index_to_access)\n",
    "if element is not None:\n",
    "    print(\"Element at index\", index_to_access, \":\", element)\n"
   ]
  },
  {
   "cell_type": "code",
   "execution_count": 24,
   "id": "4ba825fa-5b6a-41c4-9755-2158ff668023",
   "metadata": {},
   "outputs": [
    {
     "name": "stdout",
     "output_type": "stream",
     "text": [
      "Error: Division by zero is not allowed.\n"
     ]
    }
   ],
   "source": [
    "#d\n",
    "def specific_exception_example():\n",
    "    try:\n",
    "        num = 10 / 0\n",
    "    except ZeroDivisionError:\n",
    "        print(\"Error: Division by zero is not allowed.\")\n",
    "\n",
    "# Example usage\n",
    "specific_exception_example()\n"
   ]
  },
  {
   "cell_type": "code",
   "execution_count": 25,
   "id": "5780605e-6b50-4d6d-a85e-931d9be7f43d",
   "metadata": {},
   "outputs": [
    {
     "name": "stdout",
     "output_type": "stream",
     "text": [
      "An error occurred: division by zero\n"
     ]
    }
   ],
   "source": [
    "#e\n",
    "def handle_any_exception_example():\n",
    "    try:\n",
    "        value = 10 / 0\n",
    "    except Exception as e:\n",
    "        print(\"An error occurred:\", e)\n",
    "\n",
    "# Example usage\n",
    "handle_any_exception_example()\n"
   ]
  },
  {
   "cell_type": "code",
   "execution_count": null,
   "id": "7a51e193-5d06-4ac2-ba60-11aa32eabd52",
   "metadata": {},
   "outputs": [],
   "source": []
  },
  {
   "cell_type": "code",
   "execution_count": null,
   "id": "dffd247c-388c-4c97-ac08-a20f5400fc5f",
   "metadata": {},
   "outputs": [],
   "source": []
  }
 ],
 "metadata": {
  "kernelspec": {
   "display_name": "Python 3 (ipykernel)",
   "language": "python",
   "name": "python3"
  },
  "language_info": {
   "codemirror_mode": {
    "name": "ipython",
    "version": 3
   },
   "file_extension": ".py",
   "mimetype": "text/x-python",
   "name": "python",
   "nbconvert_exporter": "python",
   "pygments_lexer": "ipython3",
   "version": "3.10.6"
  }
 },
 "nbformat": 4,
 "nbformat_minor": 5
}
