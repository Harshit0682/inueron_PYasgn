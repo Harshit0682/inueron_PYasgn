{
 "cells": [
  {
   "cell_type": "code",
   "execution_count": null,
   "id": "028bff2f-296a-433d-8b27-3ce136a52cfd",
   "metadata": {},
   "outputs": [],
   "source": [
    "question1\n",
    "Built-in functions are part of Python's standard library and are available for use without requiring any additional code. They are pre-defined and cover a wide\n",
    "range of functionalities, such as manipulating strings, performing mathematical operations, working with data types, and more. These functions are accessible\n",
    "globally and can be used directly in our code.\n",
    "Example of a built-in function:\n",
    "# Using the built-in len() function to get the length of a string\n",
    "text = \"Hello, World!\"\n",
    "length = len(text)\n",
    "print(length)  # Output: 13\n",
    "\n",
    "User-defined Functions:\n",
    "User-defined functions are created by the programmer to encapsulate a specific set of instructions under a single name. They allow us to modularize our code and\n",
    "avoid repetition. we define the function's name, parameters (if any), and the code block it encapsulates. User-defined functions need to be explicitly defined before \n",
    "they can be used.\n",
    "Example of a user-defined function:\n",
    "# Defining a user-defined function to calculate the square of a number\n",
    "def square(num):\n",
    "    return num * num\n",
    "\n",
    "# Using the user-defined function\n",
    "result = square(5)\n",
    "print(result)  # Output: 25\n"
   ]
  },
  {
   "cell_type": "code",
   "execution_count": null,
   "id": "fac4d826-4f9f-4300-a91a-d1fa21fae49f",
   "metadata": {},
   "outputs": [],
   "source": [
    "question2\n",
    "Positional Arguments:\n",
    "Positional arguments are passed to a function in the order in which the parameters are defined in the function's signature. The position\n",
    "of the argument determines \n",
    "which parameter it corresponds to. These arguments are matched based on their position and are used when the order matters.\n",
    "Example using positional arguments:\n",
    "def greet(name, age):\n",
    "    print(f\"Hello, {name}! You are {age} years old.\")\n",
    "\n",
    "greet(\"Alice\", 25)\n",
    "In this example, \"Alice\" corresponds to the name parameter, and 25 corresponds to the age parameter based on their respective positions.\n",
    "\n",
    "Keyword Arguments:\n",
    "Keyword arguments are passed using the parameter names along with their values. This approach allows us to provide arguments in any order and\n",
    "makes the code morereadable since the argument's purpose is explicitly stated.\n",
    "Example using keyword arguments:\n",
    "def greet(name, age):\n",
    "    print(f\"Hello, {name}! You are {age} years old.\")\n",
    "\n",
    "greet(age=30, name=\"Bob\")\n"
   ]
  },
  {
   "cell_type": "code",
   "execution_count": 1,
   "id": "8cfe6e35-51ce-4dad-b022-1fb338fdfd53",
   "metadata": {},
   "outputs": [
    {
     "name": "stdout",
     "output_type": "stream",
     "text": [
      "5 is greater than 3\n",
      "2 is less than 8\n",
      "4 is equal to 4\n"
     ]
    }
   ],
   "source": [
    "#question3\n",
    "#the return statement in a function is used to specify the value that the function should \"return\" or output to the caller when it is executed. \n",
    "#In other words, \n",
    "#it's a way for a function to provide a result back to the code that called it. The purpose of the return statement is to pass data from the function's internal \n",
    "#operations to the outside world.\n",
    "\n",
    "#A function can indeed have multiple return statements, but only one of them will be executed during the function's execution. When a return statement is encountered, \n",
    "#the function immediately stops its execution and the value provided in the return statement is sent back to the caller.\n",
    "\n",
    "def compare_numbers(a, b):\n",
    "    if a > b:\n",
    "        return f\"{a} is greater than {b}\"\n",
    "    elif a < b:\n",
    "        return f\"{a} is less than {b}\"\n",
    "    else:\n",
    "        return f\"{a} is equal to {b}\"\n",
    "\n",
    "result1 = compare_numbers(5, 3)\n",
    "print(result1)  # Output: \"5 is greater than 3\"\n",
    "\n",
    "result2 = compare_numbers(2, 8)\n",
    "print(result2)  # Output: \"2 is less than 8\"\n",
    "\n",
    "result3 = compare_numbers(4, 4)\n",
    "print(result3)  # Output: \"4 is equal to 4\""
   ]
  },
  {
   "cell_type": "code",
   "execution_count": null,
   "id": "ccc1f35b-16ac-4cf5-b20b-22438f2baf35",
   "metadata": {},
   "outputs": [],
   "source": [
    "question4\n",
    "a lambda function is a small, anonymous function that can have any number of arguments, but can only have one expression. They are often referred to as\n",
    "\"lambda expressions\" or \"lambda forms.\" Lambda functions are used when we need a simple function for a short period of time and don't want to define a full\n",
    "function using the def keyword. Lambda functions are particularly useful for writing quick, throwaway functions without the need for a full function definition.\n",
    "\n",
    "differences between lambda functions and regular (named) functions:\n",
    "\n",
    "Syntax: Lambda functions are defined using the lambda keyword, followed by arguments and an expression, all in a single line. Regular functions are defined \n",
    "using the def keyword, followed by a function name, arguments, and a block of code.\n",
    "\n",
    "Function Name: Lambda functions are anonymous, meaning they don't have a name. They are typically used for small, specific tasks. Regular functions have a \n",
    "defined name that you use to call them.\n",
    "\n",
    "Number of Expressions: Lambda functions can only contain a single expression. Regular functions can contain multiple statements and expressions.\n",
    "\n",
    "# Regular function\n",
    "def square(x):\n",
    "    return x * x\n",
    "\n",
    "print(square(5))  # Output: 25\n",
    "\n",
    "# Equivalent lambda function\n",
    "square_lambda = lambda x: x * x\n",
    "print(square_lambda(5))  # Output: 25\n"
   ]
  },
  {
   "cell_type": "code",
   "execution_count": null,
   "id": "181becd3-de40-458f-bf37-dfd0edd07f8a",
   "metadata": {},
   "outputs": [],
   "source": [
    "\n",
    "question5\n",
    "Local Scope:\n",
    "Local scope refers to the area within a function where variables are defined. Variables created within a function have local scope and are only accessible within that \n",
    "function.\n",
    "They are called \"local variables.\" Local variables are created when the function is called and destroyed when the function exits.\n",
    "Local variables cannot be directly accessed or modified outside of the function where they are defined.\n",
    "Example:\n",
    "def my_function():\n",
    "    local_variable = 10\n",
    "    print(local_variable)\n",
    "\n",
    "my_function()  # Output: 10\n",
    "print(local_variable)  # This will raise an error because local_variable is not defined in this scope.\n",
    "\n",
    "Global Scope:\n",
    "Global scope refers to the outermost level of the script or module. Variables defined at this level have global scope and can be accessed from anywhere within the \n",
    "script or module.\n",
    "They are called \"global variables.\" Global variables are created when they are defined in the main code and are available for the entire lifetime of the program.\n",
    "Global variables can be accessed and modified from both inside and outside functions, but you need to use the global keyword inside a function if you want to modify\n",
    " a global variable.\n",
    "Example:\n",
    "global_variable = 20\n",
    "\n",
    "def my_function():\n",
    "    print(global_variable)  # Accessing the global variable\n",
    "\n",
    "my_function()  # Output: 20\n",
    "\n",
    "def modify_global():\n",
    "    global global_variable\n",
    "    global_variable = 30  # Modifying the global variable\n",
    "\n",
    "modify_global()\n",
    "print(global_variable)  # Output: 30"
   ]
  },
  {
   "cell_type": "code",
   "execution_count": 2,
   "id": "b4de5fdd-0334-4200-9cd4-9eb25d67180f",
   "metadata": {},
   "outputs": [
    {
     "name": "stdout",
     "output_type": "stream",
     "text": [
      "(10, 20, 30)\n",
      "[10, 20, 30]\n",
      "{'a': 10, 'b': 20, 'c': 30}\n"
     ]
    }
   ],
   "source": [
    "#question6\n",
    "#Using Tuple:\n",
    "def multiple_values():\n",
    "    a = 10\n",
    "    b = 20\n",
    "    c = 30\n",
    "    return a, b, c\n",
    "result = multiple_values()\n",
    "print(result)  # Output: (10, 20, 30)\n",
    "\n",
    "#Using List:\n",
    "def multiple_values_list():\n",
    "    a = 10\n",
    "    b = 20\n",
    "    c = 30\n",
    "    return [a, b, c]\n",
    "result_list = multiple_values_list()\n",
    "print(result_list)  # Output: [10, 20, 30]\n",
    "\n",
    "#Using Dictionary:\n",
    "def multiple_values_dict():\n",
    "    a = 10\n",
    "    b = 20\n",
    "    c = 30\n",
    "    return {'a': a, 'b': b, 'c': c}\n",
    "result_dict = multiple_values_dict()\n",
    "print(result_dict)  # Output: {'a': 10, 'b': 20, 'c': 30}\n"
   ]
  },
  {
   "cell_type": "code",
   "execution_count": 3,
   "id": "440aa545-ef4c-4040-a2da-1124b9a0be86",
   "metadata": {},
   "outputs": [
    {
     "name": "stdout",
     "output_type": "stream",
     "text": [
      "First Name: John\n",
      "Last Name: Doe\n"
     ]
    }
   ],
   "source": [
    "#question9\n",
    "def extract_first_last_name(full_name):\n",
    "    # Split the full name into a list of words\n",
    "    name_parts = full_name.split()\n",
    "\n",
    "    # The first word is the first name\n",
    "    first_name = name_parts[0]\n",
    "\n",
    "    # The last word is the last name\n",
    "    last_name = name_parts[-1]\n",
    "\n",
    "    return first_name, last_name\n",
    "\n",
    "# Test the function\n",
    "full_name = \"John Doe\"\n",
    "first, last = extract_first_last_name(full_name)\n",
    "print(\"First Name:\", first)  # Output: First Name: John\n",
    "print(\"Last Name:\", last)    # Output: Last Name: Doe\n",
    "\n",
    "\n"
   ]
  },
  {
   "cell_type": "code",
   "execution_count": null,
   "id": "c1b29243-3653-4071-9fb1-74499cf32543",
   "metadata": {},
   "outputs": [],
   "source": []
  },
  {
   "cell_type": "code",
   "execution_count": null,
   "id": "41775b04-2877-4027-9cbb-0511b9743ae6",
   "metadata": {},
   "outputs": [],
   "source": []
  },
  {
   "cell_type": "code",
   "execution_count": null,
   "id": "0ab906b0-73fa-4059-9c4c-d0a724bbf96e",
   "metadata": {},
   "outputs": [],
   "source": []
  }
 ],
 "metadata": {
  "kernelspec": {
   "display_name": "Python 3 (ipykernel)",
   "language": "python",
   "name": "python3"
  },
  "language_info": {
   "codemirror_mode": {
    "name": "ipython",
    "version": 3
   },
   "file_extension": ".py",
   "mimetype": "text/x-python",
   "name": "python",
   "nbconvert_exporter": "python",
   "pygments_lexer": "ipython3",
   "version": "3.10.6"
  }
 },
 "nbformat": 4,
 "nbformat_minor": 5
}
