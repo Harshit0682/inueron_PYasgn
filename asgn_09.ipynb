{
 "cells": [
  {
   "cell_type": "code",
   "execution_count": null,
   "id": "e15fdfaf-ee24-465a-a7cc-5b30ad68d2da",
   "metadata": {},
   "outputs": [],
   "source": [
    "question01\n",
    "A lambda function in Python is a small, anonymous (unnamed) function that can have any number of arguments, but can only have one expression. \n",
    "It's sometimes referred to as a \"lambda expression\" or a \"lambda.\"\n",
    "example\n",
    "add = lambda x, y: x + y\n",
    "result = add(5, 3)  # This will be 8\n",
    "\n",
    "Lambda functions are often used in situations where we need a function as an argument for higher-order functions like map, filter, and sorted. \n",
    "They are particularly handy when the function logic is short and simple.\n",
    "\n",
    "points = [(2, 5), (1, 8), (3, 3)]\n",
    "sorted_points = sorted(points, key=lambda point: point[1])\n",
    "# sorted_points will be [(3, 3), (2, 5), (1, 8)]\n",
    "\n",
    "The key differences between lambda functions and regular (named) functions are:\n",
    "\n",
    "Name: Lambda functions are anonymous, meaning they don't have a name. They are defined using the lambda keyword followed by arguments and an\n",
    "expression. Regular functions are defined using the def keyword and have a name.\n",
    "\n",
    "Complexity: Lambda functions are limited to a single expression, while regular functions can contain multiple statements and have a more \n",
    "complex body.\n",
    "\n",
    "Scope: Lambda functions are generally used for short, simple operations, and they are often used in a limited scope where a full \n",
    "function definition might not be necessary. Regular functions can have a broader scope and can be used throughout a module or even across\n",
    "multiple modules.\n"
   ]
  },
  {
   "cell_type": "code",
   "execution_count": null,
   "id": "abae487e-5d99-40d7-8d59-d738fa7e4b94",
   "metadata": {},
   "outputs": [],
   "source": [
    "question02\n",
    "Yes, a lambda function in Python can have multiple arguments. The syntax for defining a lambda function with multiple arguments is as follows:\n",
    "\n",
    "lambda arg1, arg2, ..., argN: expression\n",
    "\n",
    "\n",
    "Here's an example of a lambda function that takes two arguments and returns their sum:\n",
    "add = lambda x, y: x + y\n",
    "result = add(5, 3)  # This will be 8\n",
    "we can define lambda functions with any number of arguments by separating the arguments with commas within the parentheses. \n",
    "The number of arguments in the lambda function must match the number of arguments in the expression you provide.\n",
    "\n",
    "Here's an example of a lambda function that takes three arguments and returns the maximum of the three:\n",
    "\n",
    "find_max = lambda a, b, c: max(a, b, c)\n",
    "result = find_max(7, 12, 5)  # This will be 12\n",
    "Lambda functions with multiple arguments can be particularly useful when used in conjunction with higher-order functions or for creating \n",
    "concise operations that take multiple inputs.\n",
    "\n",
    "\n",
    "\n",
    "\n",
    "    "
   ]
  },
  {
   "cell_type": "code",
   "execution_count": 5,
   "id": "857d7a40-b05d-409b-b097-ba3e89ffe766",
   "metadata": {},
   "outputs": [
    {
     "data": {
      "text/plain": [
       "[{'title': 'Book C', 'rating': 4.8},\n",
       " {'title': 'Book A', 'rating': 4.5},\n",
       " {'title': 'Book B', 'rating': 3.9},\n",
       " {'title': 'Book D', 'rating': 3.2}]"
      ]
     },
     "execution_count": 5,
     "metadata": {},
     "output_type": "execute_result"
    }
   ],
   "source": [
    "#question03\n",
    "#Lambda functions in Python are commonly used in situations where a small, simple function is needed for a short period of time \n",
    "#and defining a regular named function might be overkill. They are often used as arguments to higher-order functions like map, filter,\n",
    "#and sorted. Lambda functions are particularly useful when you need to perform quick transformations, filtering, or sorting on data.\n",
    "\n",
    "#Here's an example use case of lambda functions in Python:\n",
    "\n",
    "#Suppose we have a list of dictionaries representing books with titles and their corresponding ratings. we want to sort the list of books based on \n",
    "#their ratings. we can use the sorted function along with a lambda function to achieve this:\n",
    "\n",
    "books = [\n",
    "    {\"title\": \"Book A\", \"rating\": 4.5},\n",
    "    {\"title\": \"Book B\", \"rating\": 3.9},\n",
    "    {\"title\": \"Book C\", \"rating\": 4.8},\n",
    "    {\"title\": \"Book D\", \"rating\": 3.2}\n",
    "]\n",
    "\n",
    "sorted_books = sorted(books, key=lambda book: book[\"rating\"], reverse=True)\n",
    "sorted_books"
   ]
  },
  {
   "cell_type": "code",
   "execution_count": null,
   "id": "ce4f0fb8-b65f-4792-8907-11265385dffc",
   "metadata": {},
   "outputs": [],
   "source": [
    "question04\n",
    "Advantages of Lambda Functions:\n",
    "Conciseness: Lambda functions are typically shorter and more compact than regular functions. They are especially useful for small, \n",
    "one-off operations.\n",
    "Inline Usage: Lambda functions are often used in situations where you need a function as an argument to another function, like in sorting or \n",
    "filtering operations.\n",
    "\n",
    "Reduced Overhead: Lambda functions do not require a separate function name or definition, reducing the cognitive overhead when dealing with \n",
    "simple operations.\n",
    "\n",
    "Functional Programming: Lambda functions align well with functional programming principles, allowing you to use functions as first-class \n",
    "citizens and enabling more expressive code.\n",
    "\n",
    "Limitations of Lambda Functions:\n",
    "Single Expression: Lambda functions are restricted to a single expression, which means they cannot contain multiple statements or complex logic.\n",
    "\n",
    "Limited Readability: While lambda functions can be concise, their lack of a descriptive name might make the code less readable, especially\n",
    "when used for complex operations.\n",
    "\n",
    "No Documentation: Lambda functions don't support docstrings, making it harder to provide context and documentation for their purpose and usage.\n",
    "\n",
    "Less Versatility: Regular functions can have default arguments, variable-length argument lists, and keyword arguments, making them more versatile\n",
    "for a wider range of use cases.\n",
    "\n",
    "Debugging Difficulty: If a lambda function throws an error, the error message might not provide as much context compared to a named function, \n",
    "which could make debugging more challenging.\n",
    "\n",
    "Limited Reusability: Lambda functions are typically suited for short-term or localized use cases. If a certain functionality needs to be reused\n",
    "across different parts of the codebase, a regular function with a meaningful name is a better choice.\n",
    "\n",
    "Complexity Limitation: If your function logic becomes more complex and requires multiple lines of code, using a regular function with proper \n",
    "indentation and readability is more appropriate.\n"
   ]
  },
  {
   "cell_type": "code",
   "execution_count": null,
   "id": "4c26e3d7-0e12-4f3e-9a74-177ba95c9a27",
   "metadata": {},
   "outputs": [],
   "source": [
    "question05\n",
    "Yes, lambda functions in Python can access variables defined outside of their own scope. They can access variables from the enclosing scope, \n",
    "including global and local scopes. This behavior is known as \"lexical scoping\" or \"closure.\"\n",
    "def outer_function(x):\n",
    "    # This is an outer function that contains a lambda function\n",
    "    y = 10  # Variable defined in the outer function's scope\n",
    "    \n",
    "    # Define a lambda function that uses variables from the outer function's scope\n",
    "    lambda_function = lambda a: a + x + y\n",
    "    \n",
    "    return lambda_function\n",
    "\n",
    "# Call the outer function to create a lambda function\n",
    "lambda_func = outer_function(5)\n",
    "\n",
    "# Call the lambda function with an argument\n",
    "result = lambda_func(3)\n",
    "\n",
    "print(result)  # Output: 18 (3 + 5 + 10)\n",
    "\n",
    "\n",
    "In this example, the lambda function lambda_function is defined within the scope of the outer_function. The lambda function uses the \n",
    "variables x and y, which are defined in the enclosing scope of outer_function. When lambda_func is called with an argument of 3, the \n",
    "lambda function adds 3 (argument a), 5 (variable x from the enclosing scope), and 10 (variable y from the enclosing scope) to produce a \n",
    "result of 18."
   ]
  },
  {
   "cell_type": "code",
   "execution_count": 6,
   "id": "3282bcaa-a23e-40a7-83f5-b80367a3e987",
   "metadata": {},
   "outputs": [
    {
     "name": "stdout",
     "output_type": "stream",
     "text": [
      "25\n"
     ]
    }
   ],
   "source": [
    "#questio06\n",
    "square = lambda x: x ** 2\n",
    "\n",
    "# Using the lambda function to calculate the square of a number\n",
    "num = 5\n",
    "result = square(num)\n",
    "\n",
    "print(result)  # Output: 25\n",
    "\n"
   ]
  },
  {
   "cell_type": "code",
   "execution_count": 20,
   "id": "1ea0382e-5989-4dc6-b50d-0019306e7de3",
   "metadata": {},
   "outputs": [
    {
     "name": "stdout",
     "output_type": "stream",
     "text": [
      "25\n"
     ]
    }
   ],
   "source": [
    "#question07\n",
    "numbers = [5, 12, 9, 25, 6, 15, 8]\n",
    "\n",
    "# Using a lambda function to find the maximum value in the list\n",
    "find_max = lambda numbers: max(numbers)\n",
    "\n",
    "result = find_max(numbers)\n",
    "\n",
    "print(result)  # Output: 25\n"
   ]
  },
  {
   "cell_type": "code",
   "execution_count": 25,
   "id": "ad23b535-67ac-40c4-834d-56b28357f1f7",
   "metadata": {},
   "outputs": [
    {
     "name": "stdout",
     "output_type": "stream",
     "text": [
      "[1, 3, 5, 7, 9]\n"
     ]
    }
   ],
   "source": [
    "#question08\n",
    "numbers = [1, 2, 3, 4, 5, 6, 7, 8, 9, 10]\n",
    "\n",
    "# Using a lambda function to filter out even numbers from the list\n",
    "filter_even = lambda lst: list(filter(lambda x: x % 2 != 0, lst))\n",
    "\n",
    "result = filter_even(numbers)\n",
    "\n",
    "print(result)  # Output: [1, 3, 5, 7, 9]\n"
   ]
  },
  {
   "cell_type": "code",
   "execution_count": 28,
   "id": "ef1f0e24-9423-4b50-ac7b-f7c03ae9b5d7",
   "metadata": {},
   "outputs": [
    {
     "name": "stdout",
     "output_type": "stream",
     "text": [
      "['date', 'apple', 'banana', 'cherry', 'elderberry']\n"
     ]
    }
   ],
   "source": [
    "#question09\n",
    "strings = [\"apple\", \"banana\", \"cherry\", \"date\", \"elderberry\"]\n",
    "\n",
    "sorted_strings = sorted(strings, key=lambda x: len(x))\n",
    "print(sorted_strings)\n"
   ]
  },
  {
   "cell_type": "code",
   "execution_count": 35,
   "id": "28954452-c5f8-41e1-9158-0749902578ae",
   "metadata": {},
   "outputs": [
    {
     "name": "stdout",
     "output_type": "stream",
     "text": [
      "[4, 5]\n"
     ]
    }
   ],
   "source": [
    "#question10\n",
    "list1 = [1, 2, 3, 4, 5]\n",
    "list2 = [4, 5, 6, 7, 8]\n",
    "\n",
    "common_elements = lambda lst1, lst2: [element for element in lst1 if element in lst2 ]\n",
    "\n",
    "result = common_elements(list1, list2)\n",
    "print(result)\n",
    "\n"
   ]
  },
  {
   "cell_type": "code",
   "execution_count": 37,
   "id": "4fcd9f0d-e3c3-4dda-a65f-830b0123e105",
   "metadata": {},
   "outputs": [
    {
     "name": "stdin",
     "output_type": "stream",
     "text": [
      "Enter a positive integer:  5\n"
     ]
    },
    {
     "name": "stdout",
     "output_type": "stream",
     "text": [
      "The factorial of 5 is 120\n"
     ]
    }
   ],
   "source": [
    "#question11\n",
    "def factorial(n):\n",
    "    if n == 0 or n == 1:\n",
    "        return 1\n",
    "    else:\n",
    "        return n * factorial(n - 1)\n",
    "\n",
    "# Test the function\n",
    "num = int(input(\"Enter a positive integer: \"))\n",
    "if num < 0:\n",
    "    print(\"Factorial is not defined for negative numbers.\")\n",
    "else:\n",
    "    result = factorial(num)\n",
    "    print(f\"The factorial of {num} is {result}\")\n"
   ]
  },
  {
   "cell_type": "code",
   "execution_count": 43,
   "id": "8f6d415b-9e05-427f-a0ea-b3e4145fa161",
   "metadata": {},
   "outputs": [
    {
     "name": "stdin",
     "output_type": "stream",
     "text": [
      "Enter a non-negative integer:  20\n"
     ]
    },
    {
     "name": "stdout",
     "output_type": "stream",
     "text": [
      "The 20th Fibonacci number is 6765\n"
     ]
    }
   ],
   "source": [
    "#question12\n",
    "def fibonacci(n):\n",
    "    if n <= 0:\n",
    "        return 0\n",
    "    elif n == 1:\n",
    "        return 1\n",
    "    else:\n",
    "        return fibonacci(n - 1) + fibonacci(n - 2)\n",
    "\n",
    "# Test the function\n",
    "num = int(input(\"Enter a non-negative integer: \"))\n",
    "if num < 0:\n",
    "    print(\"Fibonacci sequence is not defined for negative numbers.\")\n",
    "else:\n",
    "    result = fibonacci(num)\n",
    "    print(f\"The {num}th Fibonacci number is {result}\")\n"
   ]
  },
  {
   "cell_type": "code",
   "execution_count": 44,
   "id": "cd2a994f-b42f-4dda-991b-6576d4b5e9e2",
   "metadata": {},
   "outputs": [
    {
     "name": "stdout",
     "output_type": "stream",
     "text": [
      "The sum of the elements in the list is: 15\n"
     ]
    }
   ],
   "source": [
    "#question13\n",
    "def recursive_sum(lst, index=0):\n",
    "    if index == len(lst):\n",
    "        return 0\n",
    "    else:\n",
    "        return lst[index] + recursive_sum(lst, index + 1)\n",
    "\n",
    "# Test the function\n",
    "numbers = [1, 2, 3, 4, 5]\n",
    "result = recursive_sum(numbers)\n",
    "print(f\"The sum of the elements in the list is: {result}\")\n"
   ]
  },
  {
   "cell_type": "code",
   "execution_count": 49,
   "id": "b52abd41-858f-40f5-9c9e-bae5661bf3b9",
   "metadata": {},
   "outputs": [
    {
     "name": "stdin",
     "output_type": "stream",
     "text": [
      "Enter the first positive integer:  10\n",
      "Enter the second positive integer:  0\n"
     ]
    },
    {
     "name": "stdout",
     "output_type": "stream",
     "text": [
      "Both numbers should be positive integers.\n"
     ]
    }
   ],
   "source": [
    "#question15\n",
    "def gcd(a, b):\n",
    "    if b == 0:\n",
    "        return a\n",
    "    else:\n",
    "        return gcd(b, a % b)\n",
    "\n",
    "# Test the function\n",
    "num1 = int(input(\"Enter the first positive integer: \"))\n",
    "num2 = int(input(\"Enter the second positive integer: \"))\n",
    "\n",
    "if num1 <= 0 or num2 <= 0:\n",
    "    print(\"Both numbers should be positive integers.\")\n",
    "else:\n",
    "    result = gcd(num1, num2)\n",
    "    print(f\"The greatest common divisor of {num1} and {num2} is {result}\")\n"
   ]
  }
 ],
 "metadata": {
  "kernelspec": {
   "display_name": "Python 3 (ipykernel)",
   "language": "python",
   "name": "python3"
  },
  "language_info": {
   "codemirror_mode": {
    "name": "ipython",
    "version": 3
   },
   "file_extension": ".py",
   "mimetype": "text/x-python",
   "name": "python",
   "nbconvert_exporter": "python",
   "pygments_lexer": "ipython3",
   "version": "3.10.6"
  }
 },
 "nbformat": 4,
 "nbformat_minor": 5
}
